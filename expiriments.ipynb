{
 "cells": [
  {
   "cell_type": "code",
   "execution_count": 64,
   "metadata": {},
   "outputs": [],
   "source": [
    "from typing import List\n",
    "from ClusterParameters import ClusterParameters\n",
    "from DipoleOscillation import DipoleOscillation\n",
    "from Oscillation import Oscillation\n",
    "import numpy as np\n",
    "import matplotlib.pyplot as plt\n",
    "from tqdm.notebook import tqdm\n",
    "import os.path\n",
    "import pickle\n",
    "\n",
    "from SecHarmOscillation import SecHarmOscillation\n",
    "from freqFinder import FreqFinder\n",
    "import losses as loss\n",
    "\n",
    "%matplotlib qt\n"
   ]
  },
  {
   "cell_type": "code",
   "execution_count": 65,
   "metadata": {},
   "outputs": [],
   "source": [
    "nu = 0.0035\n",
    "r0 = 0.068\n",
    "epsD = 2.891\n",
    "epsInf = 1\n",
    "beta = 0.2\n",
    "N = 500\n",
    "\n",
    "wmin = 0.46\n",
    "wmax = 0.48\n",
    "Nw = 20\n",
    "w = np.linspace(wmin, wmax, Nw)\n",
    "\n"
   ]
  },
  {
   "cell_type": "code",
   "execution_count": 66,
   "metadata": {},
   "outputs": [
    {
     "name": "stdout",
     "output_type": "stream",
     "text": [
      "Loading saved results...\n"
     ]
    }
   ],
   "source": [
    "params = ClusterParameters(nu, r0, epsD, epsInf)\n",
    "oscillations: List[Oscillation] = []\n",
    "oscillations.append(SecHarmOscillation(N, 0, params, beta))\n",
    "oscillations.append(DipoleOscillation(N, params))\n",
    "oscillations.append(SecHarmOscillation(N, 2, params, beta))\n",
    "\n",
    "filename = \"./savedResults/\" + \\\n",
    "    loss.generateFilename(nu, r0, epsD, epsInf, beta, N, Nw, wmin, wmax)\n",
    "if not os.path.isfile(filename):\n",
    "    losses: List[np.ndarray] = []\n",
    "    for osc in oscillations:\n",
    "        losses.append(loss.getLosses(osc, w))\n",
    "    with open(filename, \"wb\") as handle:\n",
    "        pickle.dump((w, losses), handle)\n",
    "else:\n",
    "    print(\"Loading saved results...\")\n",
    "    with open(filename, \"rb\") as handle:\n",
    "        w, losses = pickle.load(handle)\n"
   ]
  },
  {
   "cell_type": "code",
   "execution_count": 67,
   "metadata": {},
   "outputs": [],
   "source": [
    "colors = [\"g\", \"r\", \"b\"]\n",
    "plt.figure(1)\n",
    "plt.cla()\n",
    "ff = FreqFinder(params)\n",
    "for i, l in enumerate(losses):\n",
    "    plt.plot(w, l, colors[i])\n",
    "    resFreq = ff.getResocnanceFrequencies(\n",
    "        oscillations[i].multipoleN0, 10).real\n",
    "    if isinstance(oscillations[i], SecHarmOscillation):\n",
    "        resFreq /= 2.\n",
    "    plt.scatter(resFreq, np.zeros(10), c=colors[i], marker=\"x\")\n",
    "plt.plot(w, sum(losses), 'y')\n",
    "plt.xlim((wmin, wmax))\n",
    "plt.grid()\n",
    "plt.show()"
   ]
  },
  {
   "cell_type": "code",
   "execution_count": 68,
   "metadata": {},
   "outputs": [
    {
     "name": "stdout",
     "output_type": "stream",
     "text": [
      "-0.5265927599045025\n"
     ]
    }
   ],
   "source": [
    "print(np.min(losses[0]))"
   ]
  },
  {
   "cell_type": "code",
   "execution_count": 69,
   "metadata": {},
   "outputs": [
    {
     "name": "stdout",
     "output_type": "stream",
     "text": [
      "(-18.04129486034586-0.34683261799231313j)\n"
     ]
    }
   ],
   "source": [
    "from numpy import pi\n",
    "from NonlinearSources import NonlinearSources\n",
    "ns = NonlinearSources(parameters=params,beta=0.2)\n",
    "\n",
    "\n",
    "w1 = 0.466\n",
    "Qo = oscillations[0]\n",
    "r = Qo.r\n",
    "\n",
    "psi = Qo.getPsi(w1)\n",
    "rho = Qo.getRho(w1)\n",
    "phi  = Qo.getPhi(w1)\n",
    "phiex = ns.phiFunctions[0](r,w1*2)\n",
    "\n",
    "rhoc = rho.conj()\n",
    "\n",
    "q = psi*rhoc\n",
    "\n",
    "plt.figure(2)\n",
    "plt.cla()\n",
    "qex = phiex*rhoc*params.r0**2\n",
    "qrho = 4*np.pi*np.abs(rhoc)*params.r0**2\n",
    "qphi = phi*rhoc\n",
    "ax = plt.subplot()\n",
    "ax.plot(r,q.real,'r')\n",
    "ax.plot(r,qex.real,'k--')\n",
    "ax.plot(r,qrho.real,'g--')\n",
    "ax.plot(r,qphi.real,'b--')\n",
    "plt.show()\n",
    "\n",
    "\n",
    "plt.figure(3)\n",
    "plt.cla()\n",
    "\n",
    "psi1 = (4*pi*rho+phiex)*params.r0**2 + phi\n",
    "ax = plt.subplot()\n",
    "ax.plot(r,psi1.real,'r',r,psi1.imag,'b')\n",
    "ax.plot(r,psi.real,'m--',r,psi.imag,'c--')\n",
    "q1 = psi1*rhoc\n",
    "ax.plot(r,q1.real,'g--',r,q1.imag,'k--')\n",
    "\n",
    "plt.show()\n",
    "print(np.trapz(q1*r**2,r))"
   ]
  }
 ],
 "metadata": {
  "kernelspec": {
   "display_name": ".pythonvenv",
   "language": "python",
   "name": "python3"
  },
  "language_info": {
   "codemirror_mode": {
    "name": "ipython",
    "version": 3
   },
   "file_extension": ".py",
   "mimetype": "text/x-python",
   "name": "python",
   "nbconvert_exporter": "python",
   "pygments_lexer": "ipython3",
   "version": "3.11.8"
  }
 },
 "nbformat": 4,
 "nbformat_minor": 2
}
